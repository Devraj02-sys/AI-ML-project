{
  "nbformat": 4,
  "nbformat_minor": 0,
  "metadata": {
    "colab": {
      "provenance": [],
      "authorship_tag": "ABX9TyOYbPzeMtEEWSYXla13Ww5y",
      "include_colab_link": true
    },
    "kernelspec": {
      "name": "python3",
      "display_name": "Python 3"
    },
    "language_info": {
      "name": "python"
    }
  },
  "cells": [
    {
      "cell_type": "markdown",
      "metadata": {
        "id": "view-in-github",
        "colab_type": "text"
      },
      "source": [
        "<a href=\"https://colab.research.google.com/github/Devraj02-sys/AI-ML-project/blob/main/AI_Recipe_Generator.ipynb\" target=\"_parent\"><img src=\"https://colab.research.google.com/assets/colab-badge.svg\" alt=\"Open In Colab\"/></a>"
      ]
    },
    {
      "cell_type": "code",
      "source": [
        "!pip install rasa"
      ],
      "metadata": {
        "colab": {
          "base_uri": "https://localhost:8080/"
        },
        "id": "oSmVxfXIbnyF",
        "outputId": "efd1cc8b-6c08-4e3e-83ae-12119732d9a3"
      },
      "execution_count": 11,
      "outputs": [
        {
          "output_type": "stream",
          "name": "stdout",
          "text": [
            "Collecting rasa\n",
            "  Using cached rasa-1.10.2-py3-none-any.whl.metadata (14 kB)\n",
            "Collecting PyJWT<1.8,>=1.7 (from rasa)\n",
            "  Using cached PyJWT-1.7.1-py2.py3-none-any.whl.metadata (3.9 kB)\n",
            "Collecting SQLAlchemy<1.4.0,>=1.3.3 (from rasa)\n",
            "  Using cached SQLAlchemy-1.3.24.tar.gz (6.4 MB)\n",
            "  Preparing metadata (setup.py) ... \u001b[?25l\u001b[?25hdone\n",
            "Collecting absl-py<0.10,>=0.9 (from rasa)\n",
            "  Using cached absl-py-0.9.0.tar.gz (104 kB)\n",
            "  \u001b[1;31merror\u001b[0m: \u001b[1msubprocess-exited-with-error\u001b[0m\n",
            "  \n",
            "  \u001b[31m×\u001b[0m \u001b[32mpython setup.py egg_info\u001b[0m did not run successfully.\n",
            "  \u001b[31m│\u001b[0m exit code: \u001b[1;36m1\u001b[0m\n",
            "  \u001b[31m╰─>\u001b[0m See above for output.\n",
            "  \n",
            "  \u001b[1;35mnote\u001b[0m: This error originates from a subprocess, and is likely not a problem with pip.\n",
            "  Preparing metadata (setup.py) ... \u001b[?25l\u001b[?25herror\n",
            "\u001b[1;31merror\u001b[0m: \u001b[1mmetadata-generation-failed\u001b[0m\n",
            "\n",
            "\u001b[31m×\u001b[0m Encountered error while generating package metadata.\n",
            "\u001b[31m╰─>\u001b[0m See above for output.\n",
            "\n",
            "\u001b[1;35mnote\u001b[0m: This is an issue with the package mentioned above, not pip.\n",
            "\u001b[1;36mhint\u001b[0m: See above for details.\n"
          ]
        }
      ]
    },
    {
      "cell_type": "code",
      "source": [
        "!pip install rasa-sdk"
      ],
      "metadata": {
        "colab": {
          "base_uri": "https://localhost:8080/",
          "height": 1000
        },
        "id": "N8nj18CGbypV",
        "outputId": "9aa17b37-0363-43bd-d5fa-4390efe7de1e"
      },
      "execution_count": 13,
      "outputs": [
        {
          "output_type": "stream",
          "name": "stdout",
          "text": [
            "Collecting rasa-sdk\n",
            "  Downloading rasa_sdk-3.12.0-py3-none-any.whl.metadata (6.9 kB)\n",
            "Collecting Sanic-Cors<3.0.0,>=2.0.0 (from rasa-sdk)\n",
            "  Downloading Sanic_Cors-2.2.0-py2.py3-none-any.whl.metadata (7.8 kB)\n",
            "Collecting coloredlogs<16,>=10 (from rasa-sdk)\n",
            "  Downloading coloredlogs-15.0.1-py2.py3-none-any.whl.metadata (12 kB)\n",
            "Collecting grpcio<1.61.0,>=1.60.0 (from rasa-sdk)\n",
            "  Downloading grpcio-1.60.2-cp311-cp311-manylinux_2_17_x86_64.manylinux2014_x86_64.whl.metadata (4.0 kB)\n",
            "Collecting grpcio-health-checking<1.60.0,>=1.59.3 (from rasa-sdk)\n",
            "  Downloading grpcio_health_checking-1.59.5-py3-none-any.whl.metadata (1.3 kB)\n",
            "Collecting grpcio-tools<1.61.0,>=1.60.0 (from rasa-sdk)\n",
            "  Downloading grpcio_tools-1.60.2-cp311-cp311-manylinux_2_17_x86_64.manylinux2014_x86_64.whl.metadata (6.2 kB)\n",
            "Collecting opentelemetry-api<1.17.0,>=1.16.0 (from rasa-sdk)\n",
            "  Downloading opentelemetry_api-1.16.0-py3-none-any.whl.metadata (1.5 kB)\n",
            "Collecting opentelemetry-exporter-jaeger<1.17.0,>=1.16.0 (from rasa-sdk)\n",
            "  Downloading opentelemetry_exporter_jaeger-1.16.0-py3-none-any.whl.metadata (2.1 kB)\n",
            "Collecting opentelemetry-exporter-otlp<1.17.0,>=1.16.0 (from rasa-sdk)\n",
            "  Downloading opentelemetry_exporter_otlp-1.16.0-py3-none-any.whl.metadata (2.3 kB)\n",
            "Collecting opentelemetry-sdk<1.17.0,>=1.16.0 (from rasa-sdk)\n",
            "  Downloading opentelemetry_sdk-1.16.0-py3-none-any.whl.metadata (1.5 kB)\n",
            "Requirement already satisfied: pluggy<2.0.0,>=1.0.0 in /usr/local/lib/python3.11/dist-packages (from rasa-sdk) (1.5.0)\n",
            "Collecting protobuf<4.26.0,>=4.25.3 (from rasa-sdk)\n",
            "  Downloading protobuf-4.25.6-cp37-abi3-manylinux2014_x86_64.whl.metadata (541 bytes)\n",
            "Requirement already satisfied: pydantic<3.0.0,>=2.6.4 in /usr/local/lib/python3.11/dist-packages (from rasa-sdk) (2.10.6)\n",
            "Collecting ruamel.yaml<0.18.0,>=0.16.5 (from rasa-sdk)\n",
            "  Downloading ruamel.yaml-0.17.40-py3-none-any.whl.metadata (19 kB)\n",
            "Collecting sanic<23.0,>=22.12 (from rasa-sdk)\n",
            "  Downloading sanic-22.12.0-py3-none-any.whl.metadata (11 kB)\n",
            "Requirement already satisfied: typing-extensions<5.0.0,>=4.1.1 in /usr/local/lib/python3.11/dist-packages (from rasa-sdk) (4.12.2)\n",
            "Collecting websockets<12.0,>=10.0 (from rasa-sdk)\n",
            "  Downloading websockets-11.0.3-cp311-cp311-manylinux_2_5_x86_64.manylinux1_x86_64.manylinux_2_17_x86_64.manylinux2014_x86_64.whl.metadata (6.6 kB)\n",
            "Collecting humanfriendly>=9.1 (from coloredlogs<16,>=10->rasa-sdk)\n",
            "  Downloading humanfriendly-10.0-py2.py3-none-any.whl.metadata (9.2 kB)\n",
            "Requirement already satisfied: setuptools in /usr/local/lib/python3.11/dist-packages (from grpcio-tools<1.61.0,>=1.60.0->rasa-sdk) (75.1.0)\n",
            "Requirement already satisfied: deprecated>=1.2.6 in /usr/local/lib/python3.11/dist-packages (from opentelemetry-api<1.17.0,>=1.16.0->rasa-sdk) (1.2.18)\n",
            "Collecting opentelemetry-exporter-jaeger-proto-grpc==1.16.0 (from opentelemetry-exporter-jaeger<1.17.0,>=1.16.0->rasa-sdk)\n",
            "  Downloading opentelemetry_exporter_jaeger_proto_grpc-1.16.0-py3-none-any.whl.metadata (2.6 kB)\n",
            "Collecting opentelemetry-exporter-jaeger-thrift==1.16.0 (from opentelemetry-exporter-jaeger<1.17.0,>=1.16.0->rasa-sdk)\n",
            "  Downloading opentelemetry_exporter_jaeger_thrift-1.16.0-py3-none-any.whl.metadata (2.5 kB)\n",
            "Collecting googleapis-common-protos<1.56.3,~=1.52 (from opentelemetry-exporter-jaeger-proto-grpc==1.16.0->opentelemetry-exporter-jaeger<1.17.0,>=1.16.0->rasa-sdk)\n",
            "  Downloading googleapis_common_protos-1.56.2-py2.py3-none-any.whl.metadata (1.3 kB)\n",
            "Collecting thrift>=0.10.0 (from opentelemetry-exporter-jaeger-thrift==1.16.0->opentelemetry-exporter-jaeger<1.17.0,>=1.16.0->rasa-sdk)\n",
            "  Downloading thrift-0.21.0.tar.gz (62 kB)\n",
            "\u001b[2K     \u001b[90m━━━━━━━━━━━━━━━━━━━━━━━━━━━━━━━━━━━━━━━━\u001b[0m \u001b[32m62.5/62.5 kB\u001b[0m \u001b[31m2.4 MB/s\u001b[0m eta \u001b[36m0:00:00\u001b[0m\n",
            "\u001b[?25h  Preparing metadata (setup.py) ... \u001b[?25l\u001b[?25hdone\n",
            "Collecting opentelemetry-exporter-otlp-proto-grpc==1.16.0 (from opentelemetry-exporter-otlp<1.17.0,>=1.16.0->rasa-sdk)\n",
            "  Downloading opentelemetry_exporter_otlp_proto_grpc-1.16.0-py3-none-any.whl.metadata (2.3 kB)\n",
            "Collecting opentelemetry-exporter-otlp-proto-http==1.16.0 (from opentelemetry-exporter-otlp<1.17.0,>=1.16.0->rasa-sdk)\n",
            "  Downloading opentelemetry_exporter_otlp_proto_http-1.16.0-py3-none-any.whl.metadata (2.3 kB)\n",
            "Collecting backoff<3.0.0,>=1.10.0 (from opentelemetry-exporter-otlp-proto-grpc==1.16.0->opentelemetry-exporter-otlp<1.17.0,>=1.16.0->rasa-sdk)\n",
            "  Downloading backoff-2.2.1-py3-none-any.whl.metadata (14 kB)\n",
            "Collecting opentelemetry-proto==1.16.0 (from opentelemetry-exporter-otlp-proto-grpc==1.16.0->opentelemetry-exporter-otlp<1.17.0,>=1.16.0->rasa-sdk)\n",
            "  Downloading opentelemetry_proto-1.16.0-py3-none-any.whl.metadata (2.3 kB)\n",
            "Requirement already satisfied: requests~=2.7 in /usr/local/lib/python3.11/dist-packages (from opentelemetry-exporter-otlp-proto-http==1.16.0->opentelemetry-exporter-otlp<1.17.0,>=1.16.0->rasa-sdk) (2.32.3)\n",
            "Collecting opentelemetry-semantic-conventions==0.37b0 (from opentelemetry-sdk<1.17.0,>=1.16.0->rasa-sdk)\n",
            "  Downloading opentelemetry_semantic_conventions-0.37b0-py3-none-any.whl.metadata (2.3 kB)\n",
            "Requirement already satisfied: annotated-types>=0.6.0 in /usr/local/lib/python3.11/dist-packages (from pydantic<3.0.0,>=2.6.4->rasa-sdk) (0.7.0)\n",
            "Requirement already satisfied: pydantic-core==2.27.2 in /usr/local/lib/python3.11/dist-packages (from pydantic<3.0.0,>=2.6.4->rasa-sdk) (2.27.2)\n",
            "Collecting ruamel.yaml.clib>=0.2.7 (from ruamel.yaml<0.18.0,>=0.16.5->rasa-sdk)\n",
            "  Downloading ruamel.yaml.clib-0.2.12-cp311-cp311-manylinux_2_17_x86_64.manylinux2014_x86_64.whl.metadata (2.7 kB)\n",
            "Collecting sanic-routing>=22.8.0 (from sanic<23.0,>=22.12->rasa-sdk)\n",
            "  Downloading sanic_routing-23.12.0-py3-none-any.whl.metadata (8.2 kB)\n",
            "Collecting httptools>=0.0.10 (from sanic<23.0,>=22.12->rasa-sdk)\n",
            "  Downloading httptools-0.6.4-cp311-cp311-manylinux_2_5_x86_64.manylinux1_x86_64.manylinux_2_17_x86_64.manylinux2014_x86_64.whl.metadata (3.6 kB)\n",
            "Collecting aiofiles>=0.6.0 (from sanic<23.0,>=22.12->rasa-sdk)\n",
            "  Downloading aiofiles-24.1.0-py3-none-any.whl.metadata (10 kB)\n",
            "Requirement already satisfied: multidict<7.0,>=5.0 in /usr/local/lib/python3.11/dist-packages (from sanic<23.0,>=22.12->rasa-sdk) (6.2.0)\n",
            "Collecting uvloop>=0.15.0 (from sanic<23.0,>=22.12->rasa-sdk)\n",
            "  Downloading uvloop-0.21.0-cp311-cp311-manylinux_2_17_x86_64.manylinux2014_x86_64.whl.metadata (4.9 kB)\n",
            "Collecting ujson>=1.35 (from sanic<23.0,>=22.12->rasa-sdk)\n",
            "  Downloading ujson-5.10.0-cp311-cp311-manylinux_2_17_x86_64.manylinux2014_x86_64.whl.metadata (9.3 kB)\n",
            "Requirement already satisfied: packaging>=21.3 in /usr/local/lib/python3.11/dist-packages (from Sanic-Cors<3.0.0,>=2.0.0->rasa-sdk) (24.2)\n",
            "Requirement already satisfied: wrapt<2,>=1.10 in /usr/local/lib/python3.11/dist-packages (from deprecated>=1.2.6->opentelemetry-api<1.17.0,>=1.16.0->rasa-sdk) (1.17.2)\n",
            "INFO: pip is looking at multiple versions of googleapis-common-protos to determine which version is compatible with other requirements. This could take a while.\n",
            "Collecting googleapis-common-protos<1.56.3,~=1.52 (from opentelemetry-exporter-jaeger-proto-grpc==1.16.0->opentelemetry-exporter-jaeger<1.17.0,>=1.16.0->rasa-sdk)\n",
            "  Downloading googleapis_common_protos-1.56.1-py2.py3-none-any.whl.metadata (1.3 kB)\n",
            "Requirement already satisfied: charset-normalizer<4,>=2 in /usr/local/lib/python3.11/dist-packages (from requests~=2.7->opentelemetry-exporter-otlp-proto-http==1.16.0->opentelemetry-exporter-otlp<1.17.0,>=1.16.0->rasa-sdk) (3.4.1)\n",
            "Requirement already satisfied: idna<4,>=2.5 in /usr/local/lib/python3.11/dist-packages (from requests~=2.7->opentelemetry-exporter-otlp-proto-http==1.16.0->opentelemetry-exporter-otlp<1.17.0,>=1.16.0->rasa-sdk) (3.10)\n",
            "Requirement already satisfied: urllib3<3,>=1.21.1 in /usr/local/lib/python3.11/dist-packages (from requests~=2.7->opentelemetry-exporter-otlp-proto-http==1.16.0->opentelemetry-exporter-otlp<1.17.0,>=1.16.0->rasa-sdk) (2.3.0)\n",
            "Requirement already satisfied: certifi>=2017.4.17 in /usr/local/lib/python3.11/dist-packages (from requests~=2.7->opentelemetry-exporter-otlp-proto-http==1.16.0->opentelemetry-exporter-otlp<1.17.0,>=1.16.0->rasa-sdk) (2025.1.31)\n",
            "Requirement already satisfied: six>=1.7.2 in /usr/local/lib/python3.11/dist-packages (from thrift>=0.10.0->opentelemetry-exporter-jaeger-thrift==1.16.0->opentelemetry-exporter-jaeger<1.17.0,>=1.16.0->rasa-sdk) (1.17.0)\n",
            "Downloading rasa_sdk-3.12.0-py3-none-any.whl (63 kB)\n",
            "\u001b[2K   \u001b[90m━━━━━━━━━━━━━━━━━━━━━━━━━━━━━━━━━━━━━━━━\u001b[0m \u001b[32m63.9/63.9 kB\u001b[0m \u001b[31m4.8 MB/s\u001b[0m eta \u001b[36m0:00:00\u001b[0m\n",
            "\u001b[?25hDownloading coloredlogs-15.0.1-py2.py3-none-any.whl (46 kB)\n",
            "\u001b[2K   \u001b[90m━━━━━━━━━━━━━━━━━━━━━━━━━━━━━━━━━━━━━━━━\u001b[0m \u001b[32m46.0/46.0 kB\u001b[0m \u001b[31m3.5 MB/s\u001b[0m eta \u001b[36m0:00:00\u001b[0m\n",
            "\u001b[?25hDownloading grpcio-1.60.2-cp311-cp311-manylinux_2_17_x86_64.manylinux2014_x86_64.whl (5.4 MB)\n",
            "\u001b[2K   \u001b[90m━━━━━━━━━━━━━━━━━━━━━━━━━━━━━━━━━━━━━━━━\u001b[0m \u001b[32m5.4/5.4 MB\u001b[0m \u001b[31m46.8 MB/s\u001b[0m eta \u001b[36m0:00:00\u001b[0m\n",
            "\u001b[?25hDownloading grpcio_health_checking-1.59.5-py3-none-any.whl (18 kB)\n",
            "Downloading grpcio_tools-1.60.2-cp311-cp311-manylinux_2_17_x86_64.manylinux2014_x86_64.whl (2.8 MB)\n",
            "\u001b[2K   \u001b[90m━━━━━━━━━━━━━━━━━━━━━━━━━━━━━━━━━━━━━━━━\u001b[0m \u001b[32m2.8/2.8 MB\u001b[0m \u001b[31m50.7 MB/s\u001b[0m eta \u001b[36m0:00:00\u001b[0m\n",
            "\u001b[?25hDownloading opentelemetry_api-1.16.0-py3-none-any.whl (57 kB)\n",
            "\u001b[2K   \u001b[90m━━━━━━━━━━━━━━━━━━━━━━━━━━━━━━━━━━━━━━━━\u001b[0m \u001b[32m57.3/57.3 kB\u001b[0m \u001b[31m4.4 MB/s\u001b[0m eta \u001b[36m0:00:00\u001b[0m\n",
            "\u001b[?25hDownloading opentelemetry_exporter_jaeger-1.16.0-py3-none-any.whl (7.0 kB)\n",
            "Downloading opentelemetry_exporter_jaeger_proto_grpc-1.16.0-py3-none-any.whl (37 kB)\n",
            "Downloading opentelemetry_exporter_jaeger_thrift-1.16.0-py3-none-any.whl (35 kB)\n",
            "Downloading opentelemetry_exporter_otlp-1.16.0-py3-none-any.whl (7.0 kB)\n",
            "Downloading opentelemetry_exporter_otlp_proto_grpc-1.16.0-py3-none-any.whl (20 kB)\n",
            "Downloading opentelemetry_exporter_otlp_proto_http-1.16.0-py3-none-any.whl (21 kB)\n",
            "Downloading opentelemetry_proto-1.16.0-py3-none-any.whl (52 kB)\n",
            "\u001b[2K   \u001b[90m━━━━━━━━━━━━━━━━━━━━━━━━━━━━━━━━━━━━━━━━\u001b[0m \u001b[32m52.6/52.6 kB\u001b[0m \u001b[31m3.9 MB/s\u001b[0m eta \u001b[36m0:00:00\u001b[0m\n",
            "\u001b[?25hDownloading opentelemetry_sdk-1.16.0-py3-none-any.whl (94 kB)\n",
            "\u001b[2K   \u001b[90m━━━━━━━━━━━━━━━━━━━━━━━━━━━━━━━━━━━━━━━━\u001b[0m \u001b[32m94.6/94.6 kB\u001b[0m \u001b[31m8.5 MB/s\u001b[0m eta \u001b[36m0:00:00\u001b[0m\n",
            "\u001b[?25hDownloading opentelemetry_semantic_conventions-0.37b0-py3-none-any.whl (26 kB)\n",
            "Downloading protobuf-4.25.6-cp37-abi3-manylinux2014_x86_64.whl (294 kB)\n",
            "\u001b[2K   \u001b[90m━━━━━━━━━━━━━━━━━━━━━━━━━━━━━━━━━━━━━━━━\u001b[0m \u001b[32m294.6/294.6 kB\u001b[0m \u001b[31m22.3 MB/s\u001b[0m eta \u001b[36m0:00:00\u001b[0m\n",
            "\u001b[?25hDownloading ruamel.yaml-0.17.40-py3-none-any.whl (113 kB)\n",
            "\u001b[2K   \u001b[90m━━━━━━━━━━━━━━━━━━━━━━━━━━━━━━━━━━━━━━━━\u001b[0m \u001b[32m113.7/113.7 kB\u001b[0m \u001b[31m9.6 MB/s\u001b[0m eta \u001b[36m0:00:00\u001b[0m\n",
            "\u001b[?25hDownloading sanic-22.12.0-py3-none-any.whl (183 kB)\n",
            "\u001b[2K   \u001b[90m━━━━━━━━━━━━━━━━━━━━━━━━━━━━━━━━━━━━━━━━\u001b[0m \u001b[32m183.1/183.1 kB\u001b[0m \u001b[31m16.0 MB/s\u001b[0m eta \u001b[36m0:00:00\u001b[0m\n",
            "\u001b[?25hDownloading Sanic_Cors-2.2.0-py2.py3-none-any.whl (18 kB)\n",
            "Downloading websockets-11.0.3-cp311-cp311-manylinux_2_5_x86_64.manylinux1_x86_64.manylinux_2_17_x86_64.manylinux2014_x86_64.whl (130 kB)\n",
            "\u001b[2K   \u001b[90m━━━━━━━━━━━━━━━━━━━━━━━━━━━━━━━━━━━━━━━━\u001b[0m \u001b[32m130.6/130.6 kB\u001b[0m \u001b[31m10.6 MB/s\u001b[0m eta \u001b[36m0:00:00\u001b[0m\n",
            "\u001b[?25hDownloading aiofiles-24.1.0-py3-none-any.whl (15 kB)\n",
            "Downloading httptools-0.6.4-cp311-cp311-manylinux_2_5_x86_64.manylinux1_x86_64.manylinux_2_17_x86_64.manylinux2014_x86_64.whl (459 kB)\n",
            "\u001b[2K   \u001b[90m━━━━━━━━━━━━━━━━━━━━━━━━━━━━━━━━━━━━━━━━\u001b[0m \u001b[32m459.8/459.8 kB\u001b[0m \u001b[31m32.3 MB/s\u001b[0m eta \u001b[36m0:00:00\u001b[0m\n",
            "\u001b[?25hDownloading humanfriendly-10.0-py2.py3-none-any.whl (86 kB)\n",
            "\u001b[2K   \u001b[90m━━━━━━━━━━━━━━━━━━━━━━━━━━━━━━━━━━━━━━━━\u001b[0m \u001b[32m86.8/86.8 kB\u001b[0m \u001b[31m7.7 MB/s\u001b[0m eta \u001b[36m0:00:00\u001b[0m\n",
            "\u001b[?25hDownloading ruamel.yaml.clib-0.2.12-cp311-cp311-manylinux_2_17_x86_64.manylinux2014_x86_64.whl (739 kB)\n",
            "\u001b[2K   \u001b[90m━━━━━━━━━━━━━━━━━━━━━━━━━━━━━━━━━━━━━━━━\u001b[0m \u001b[32m739.1/739.1 kB\u001b[0m \u001b[31m44.2 MB/s\u001b[0m eta \u001b[36m0:00:00\u001b[0m\n",
            "\u001b[?25hDownloading sanic_routing-23.12.0-py3-none-any.whl (25 kB)\n",
            "Downloading ujson-5.10.0-cp311-cp311-manylinux_2_17_x86_64.manylinux2014_x86_64.whl (53 kB)\n",
            "\u001b[2K   \u001b[90m━━━━━━━━━━━━━━━━━━━━━━━━━━━━━━━━━━━━━━━━\u001b[0m \u001b[32m53.6/53.6 kB\u001b[0m \u001b[31m4.7 MB/s\u001b[0m eta \u001b[36m0:00:00\u001b[0m\n",
            "\u001b[?25hDownloading uvloop-0.21.0-cp311-cp311-manylinux_2_17_x86_64.manylinux2014_x86_64.whl (4.0 MB)\n",
            "\u001b[2K   \u001b[90m━━━━━━━━━━━━━━━━━━━━━━━━━━━━━━━━━━━━━━━━\u001b[0m \u001b[32m4.0/4.0 MB\u001b[0m \u001b[31m78.4 MB/s\u001b[0m eta \u001b[36m0:00:00\u001b[0m\n",
            "\u001b[?25hDownloading backoff-2.2.1-py3-none-any.whl (15 kB)\n",
            "Downloading googleapis_common_protos-1.56.1-py2.py3-none-any.whl (211 kB)\n",
            "\u001b[2K   \u001b[90m━━━━━━━━━━━━━━━━━━━━━━━━━━━━━━━━━━━━━━━━\u001b[0m \u001b[32m211.7/211.7 kB\u001b[0m \u001b[31m16.5 MB/s\u001b[0m eta \u001b[36m0:00:00\u001b[0m\n",
            "\u001b[?25hBuilding wheels for collected packages: thrift\n",
            "  Building wheel for thrift (setup.py) ... \u001b[?25l\u001b[?25hdone\n",
            "  Created wheel for thrift: filename=thrift-0.21.0-cp311-cp311-linux_x86_64.whl size=420507 sha256=b1767af0443d3ce871ade202eafa168653ac239be3c2e11c9f974dff5ac3dc2f\n",
            "  Stored in directory: /root/.cache/pip/wheels/ee/4e/19/b0935ea8d432182833c86e4a36f8026d8e212f8f7c5939cbca\n",
            "Successfully built thrift\n",
            "Installing collected packages: sanic-routing, websockets, uvloop, ujson, thrift, ruamel.yaml.clib, protobuf, opentelemetry-semantic-conventions, humanfriendly, httptools, grpcio, backoff, aiofiles, sanic, ruamel.yaml, opentelemetry-proto, opentelemetry-api, grpcio-tools, grpcio-health-checking, googleapis-common-protos, coloredlogs, Sanic-Cors, opentelemetry-sdk, opentelemetry-exporter-otlp-proto-http, opentelemetry-exporter-otlp-proto-grpc, opentelemetry-exporter-jaeger-thrift, opentelemetry-exporter-jaeger-proto-grpc, opentelemetry-exporter-otlp, opentelemetry-exporter-jaeger, rasa-sdk\n",
            "  Attempting uninstall: websockets\n",
            "    Found existing installation: websockets 15.0.1\n",
            "    Uninstalling websockets-15.0.1:\n",
            "      Successfully uninstalled websockets-15.0.1\n",
            "  Attempting uninstall: protobuf\n",
            "    Found existing installation: protobuf 5.29.4\n",
            "    Uninstalling protobuf-5.29.4:\n",
            "      Successfully uninstalled protobuf-5.29.4\n",
            "  Attempting uninstall: opentelemetry-semantic-conventions\n",
            "    Found existing installation: opentelemetry-semantic-conventions 0.52b1\n",
            "    Uninstalling opentelemetry-semantic-conventions-0.52b1:\n",
            "      Successfully uninstalled opentelemetry-semantic-conventions-0.52b1\n",
            "  Attempting uninstall: grpcio\n",
            "    Found existing installation: grpcio 1.71.0\n",
            "    Uninstalling grpcio-1.71.0:\n",
            "      Successfully uninstalled grpcio-1.71.0\n",
            "  Attempting uninstall: opentelemetry-api\n",
            "    Found existing installation: opentelemetry-api 1.31.1\n",
            "    Uninstalling opentelemetry-api-1.31.1:\n",
            "      Successfully uninstalled opentelemetry-api-1.31.1\n",
            "  Attempting uninstall: googleapis-common-protos\n",
            "    Found existing installation: googleapis-common-protos 1.69.2\n",
            "    Uninstalling googleapis-common-protos-1.69.2:\n",
            "      Successfully uninstalled googleapis-common-protos-1.69.2\n",
            "  Attempting uninstall: opentelemetry-sdk\n",
            "    Found existing installation: opentelemetry-sdk 1.31.1\n",
            "    Uninstalling opentelemetry-sdk-1.31.1:\n",
            "      Successfully uninstalled opentelemetry-sdk-1.31.1\n",
            "\u001b[31mERROR: pip's dependency resolver does not currently take into account all the packages that are installed. This behaviour is the source of the following dependency conflicts.\n",
            "google-cloud-pubsub 2.29.0 requires opentelemetry-api>=1.27.0; python_version >= \"3.8\", but you have opentelemetry-api 1.16.0 which is incompatible.\n",
            "google-cloud-pubsub 2.29.0 requires opentelemetry-sdk>=1.27.0; python_version >= \"3.8\", but you have opentelemetry-sdk 1.16.0 which is incompatible.\n",
            "google-api-core 2.24.2 requires googleapis-common-protos<2.0.0,>=1.56.2, but you have googleapis-common-protos 1.56.1 which is incompatible.\n",
            "tensorflow-metadata 1.16.1 requires googleapis-common-protos<2,>=1.56.4; python_version >= \"3.11\", but you have googleapis-common-protos 1.56.1 which is incompatible.\n",
            "grpcio-status 1.71.0 requires grpcio>=1.71.0, but you have grpcio 1.60.2 which is incompatible.\n",
            "grpcio-status 1.71.0 requires protobuf<6.0dev,>=5.26.1, but you have protobuf 4.25.6 which is incompatible.\n",
            "google-genai 1.7.0 requires websockets<15.1.0,>=13.0.0, but you have websockets 11.0.3 which is incompatible.\u001b[0m\u001b[31m\n",
            "\u001b[0mSuccessfully installed Sanic-Cors-2.2.0 aiofiles-24.1.0 backoff-2.2.1 coloredlogs-15.0.1 googleapis-common-protos-1.56.1 grpcio-1.60.2 grpcio-health-checking-1.59.5 grpcio-tools-1.60.2 httptools-0.6.4 humanfriendly-10.0 opentelemetry-api-1.16.0 opentelemetry-exporter-jaeger-1.16.0 opentelemetry-exporter-jaeger-proto-grpc-1.16.0 opentelemetry-exporter-jaeger-thrift-1.16.0 opentelemetry-exporter-otlp-1.16.0 opentelemetry-exporter-otlp-proto-grpc-1.16.0 opentelemetry-exporter-otlp-proto-http-1.16.0 opentelemetry-proto-1.16.0 opentelemetry-sdk-1.16.0 opentelemetry-semantic-conventions-0.37b0 protobuf-4.25.6 rasa-sdk-3.12.0 ruamel.yaml-0.17.40 ruamel.yaml.clib-0.2.12 sanic-22.12.0 sanic-routing-23.12.0 thrift-0.21.0 ujson-5.10.0 uvloop-0.21.0 websockets-11.0.3\n"
          ]
        },
        {
          "output_type": "display_data",
          "data": {
            "application/vnd.colab-display-data+json": {
              "pip_warning": {
                "packages": [
                  "google"
                ]
              },
              "id": "248d24e3d0934c0ba6fc83cdb23ddf6b"
            }
          },
          "metadata": {}
        }
      ]
    },
    {
      "cell_type": "code",
      "source": [
        "import spacy\n",
        "from rasa_sdk import Action, Tracker\n",
        "from rasa_sdk.executor import CollectingDispatcher\n",
        "import random\n",
        "\n",
        "# Load SpaCy NLP model\n",
        "nlp = spacy.load(\"en_core_web_sm\")\n",
        "\n",
        "# Sample dataset (Can be expanded or loaded from a file)\n",
        "recipes = {\n",
        "    \"pasta\": [\"Tomato Pasta\", \"Creamy Alfredo\", \"Pesto Pasta\"],\n",
        "    \"chicken\": [\"Grilled Chicken\", \"Butter Chicken\", \"Chicken Curry\"],\n",
        "    \"rice\": [\"Fried Rice\", \"Biryani\", \"Steamed Rice\"],\n",
        "    \"vegetables\": [\"Veg Stir Fry\", \"Grilled Veggies\", \"Salad Bowl\"]\n",
        "}\n",
        "\n",
        "# Function to process user input and extract ingredients\n",
        "def extract_ingredients(user_input):\n",
        "    doc = nlp(user_input)\n",
        "    ingredients = [token.text.lower() for token in doc if token.pos_ == \"NOUN\"]\n",
        "    return ingredients\n",
        "\n",
        "# Function to suggest recipes based on extracted ingredients\n",
        "def suggest_recipe(ingredients):\n",
        "    suggested = []\n",
        "    for ingredient in ingredients:\n",
        "        if ingredient in recipes:\n",
        "            suggested.extend(recipes[ingredient])\n",
        "    return suggested if suggested else [\"No matching recipes found. Try different ingredients!\"]\n",
        "\n",
        "class ActionRecipeGenerator(Action):\n",
        "    def name(self):\n",
        "        return \"action_generate_recipe\"\n",
        "\n",
        "    def run(self, dispatcher: CollectingDispatcher, tracker: Tracker, domain):\n",
        "        user_input = tracker.latest_message.get(\"text\")\n",
        "        ingredients = extract_ingredients(user_input)\n",
        "        suggestions = suggest_recipe(ingredients)\n",
        "        response = \"Here are some recipe suggestions: \" + \", \".join(suggestions)\n",
        "        dispatcher.utter_message(text=response)\n",
        "        return []\n",
        "# Mock objects for testing\n",
        "class MockDispatcher(CollectingDispatcher):\n",
        "    def utter_message(self, text):\n",
        "        print(text)\n",
        "\n",
        "class MockTracker:\n",
        "    def __init__(self, latest_message):\n",
        "        self.latest_message = latest_message\n",
        "\n",
        "    def latest_message(self):\n",
        "        return self.latest_message\n",
        "\n",
        "obj = ActionRecipeGenerator()\n",
        "dispatcher = MockDispatcher()\n",
        "user_input=input(\"Enter The ingredients you have :  \")\n",
        "tracker = MockTracker({\"text\": user_input}) # Example user input\n",
        "obj.run(dispatcher, tracker, {}) # Empty dictionary for the domain\n"
      ],
      "metadata": {
        "colab": {
          "base_uri": "https://localhost:8080/"
        },
        "id": "xCcB92Ogb6-u",
        "outputId": "ef2ee1c3-210f-4e5e-de4a-bc9c6b927b8f"
      },
      "execution_count": 23,
      "outputs": [
        {
          "output_type": "stream",
          "name": "stdout",
          "text": [
            "Enter The ingredients you have :  Vegetables\n",
            "Here are some recipe suggestions: Veg Stir Fry, Grilled Veggies, Salad Bowl\n"
          ]
        },
        {
          "output_type": "execute_result",
          "data": {
            "text/plain": [
              "[]"
            ]
          },
          "metadata": {},
          "execution_count": 23
        }
      ]
    }
  ]
}