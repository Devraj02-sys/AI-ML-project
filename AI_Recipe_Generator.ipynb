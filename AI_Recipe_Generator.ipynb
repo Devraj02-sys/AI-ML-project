{
  "nbformat": 4,
  "nbformat_minor": 0,
  "metadata": {
    "colab": {
      "provenance": [],
      "authorship_tag": "ABX9TyPnGfYCib2viGbcxRKuKJvv",
      "include_colab_link": true
    },
    "kernelspec": {
      "name": "python3",
      "display_name": "Python 3"
    },
    "language_info": {
      "name": "python"
    }
  },
  "cells": [
    {
      "cell_type": "markdown",
      "metadata": {
        "id": "view-in-github",
        "colab_type": "text"
      },
      "source": [
        "<a href=\"https://colab.research.google.com/github/Devraj02-sys/AI-ML-project/blob/main/AI_Recipe_Generator.ipynb\" target=\"_parent\"><img src=\"https://colab.research.google.com/assets/colab-badge.svg\" alt=\"Open In Colab\"/></a>"
      ]
    },
    {
      "cell_type": "code",
      "source": [
        "!pip install rasa\n",
        "!pip install rasa-sdk\n",
        "import spacy\n",
        "from rasa_sdk import Action, Tracker\n",
        "from rasa_sdk.executor import CollectingDispatcher\n",
        "import random\n",
        "\n",
        "# Load SpaCy NLP model\n",
        "nlp = spacy.load(\"en_core_web_sm\")\n",
        "\n",
        "# Sample dataset (Can be expanded or loaded from a file)\n",
        "recipes = {\n",
        "    \"pasta\": [\"Tomato Pasta\", \"Creamy Alfredo\", \"Pesto Pasta\", \"Garlic Butter Pasta\", \"Spaghetti Carbonara\"],\n",
        "    \"chicken\": [\"Grilled Chicken\", \"Butter Chicken\", \"Chicken Curry\", \"Chicken Tikka Masala\", \"Honey Garlic Chicken\"],\n",
        "    \"rice\": [\"Fried Rice\", \"Biryani\", \"Steamed Rice\", \"Lemon Rice\", \"Mexican Rice\"],\n",
        "    \"vegetables\": [\"Veg Stir Fry\", \"Grilled Veggies\", \"Salad Bowl\", \"Roasted Veggie Platter\", \"Stuffed Bell Peppers\"],\n",
        "    \"fish\": [\"Grilled Salmon\", \"Fish Tacos\", \"Lemon Butter Fish\", \"Spicy Tuna Salad\", \"Garlic Butter Shrimp\"],\n",
        "    \"eggs\": [\"Scrambled Eggs\", \"Omelette\", \"Egg Curry\", \"Shakshuka\", \"Deviled Eggs\"],\n",
        "    \"beef\": [\"Beef Stroganoff\", \"Steak with Garlic Butter\", \"Beef Tacos\", \"Beef and Broccoli Stir Fry\", \"Shepherd’s Pie\"],\n",
        "    \"bread\": [\"Garlic Bread\", \"French Toast\", \"Grilled Cheese Sandwich\", \"Banana Bread\", \"Avocado Toast\"],\n",
        "    \"soup\": [\"Tomato Soup\", \"Miso Soup\", \"Chicken Noodle Soup\", \"Lentil Soup\", \"Clam Chowder\"],\n",
        "    \"dessert\": [\"Chocolate Brownies\", \"Apple Pie\", \"Cheesecake\", \"Mango Mousse\", \"Tiramisu\"],\n",
        "    \"beans\": [\"Chili Con Carne\", \"Hummus\", \"Black Bean Soup\", \"Baked Beans\", \"Bean Burritos\"],\n",
        "    \"tofu\": [\"Tofu Stir Fry\", \"Crispy Tofu Bites\", \"Tofu Curry\", \"Tofu Scramble\", \"Honey Soy Glazed Tofu\"],\n",
        "    \"potato\": [\"Mashed Potatoes\", \"French Fries\", \"Baked Potato\", \"Potato Salad\", \"Hash Browns\"],\n",
        "    \"mushroom\": [\"Mushroom Risotto\", \"Garlic Butter Mushrooms\", \"Stuffed Mushrooms\", \"Mushroom Soup\", \"Mushroom Pizza\"],\n",
        "    \"lentils\": [\"Dal Tadka\", \"Lentil Soup\", \"Lentil Salad\", \"Lentil Burgers\", \"Spicy Lentil Stew\"]\n",
        "}\n",
        "\n",
        "\n",
        "# Function to process user input and extract ingredients\n",
        "def extract_ingredients(user_input):\n",
        "    doc = nlp(user_input)\n",
        "    ingredients = [token.text.lower() for token in doc if token.pos_ == \"NOUN\"]\n",
        "    return ingredients\n",
        "\n",
        "# Function to suggest recipes based on extracted ingredients\n",
        "def suggest_recipe(ingredients):\n",
        "    suggested = []\n",
        "    for ingredient in ingredients:\n",
        "        if ingredient in recipes:\n",
        "            suggested.extend(recipes[ingredient])\n",
        "    return suggested if suggested else [\"No matching recipes found. Try different ingredients!\"]\n",
        "\n",
        "class ActionRecipeGenerator(Action):\n",
        "    def name(self):\n",
        "        return \"action_generate_recipe\"\n",
        "\n",
        "    def run(self, dispatcher: CollectingDispatcher, tracker: Tracker, domain):\n",
        "        user_input = tracker.latest_message.get(\"text\")\n",
        "        ingredients = extract_ingredients(user_input)\n",
        "        suggestions = suggest_recipe(ingredients)\n",
        "        response = \"Here are some recipe suggestions: \" + \", \".join(suggestions)\n",
        "        dispatcher.utter_message(text=response)\n",
        "        return []\n",
        "# Mock objects for testing\n",
        "class MockDispatcher(CollectingDispatcher):\n",
        "    def utter_message(self, text):\n",
        "        print(text)\n",
        "\n",
        "class MockTracker:\n",
        "    def __init__(self, latest_message):\n",
        "        self.latest_message = latest_message\n",
        "\n",
        "    def latest_message(self):\n",
        "        return self.latest_message\n",
        "\n",
        "obj = ActionRecipeGenerator()\n",
        "dispatcher = MockDispatcher()\n",
        "user_input=input(\"Enter The ingredients you have :  \")\n",
        "tracker = MockTracker({\"text\": user_input}) # Example user input\n",
        "obj.run(dispatcher, tracker, {}) # Empty dictionary for the domain\n"
      ],
      "metadata": {
        "colab": {
          "base_uri": "https://localhost:8080/"
        },
        "id": "xCcB92Ogb6-u",
        "outputId": "11e777d8-2452-41c2-fcd8-fad6b6a9b32b"
      },
      "execution_count": 1,
      "outputs": [
        {
          "output_type": "stream",
          "name": "stdout",
          "text": [
            "Enter The ingredients you have :  mushroom\n",
            "Here are some recipe suggestions: Mushroom Risotto, Garlic Butter Mushrooms, Stuffed Mushrooms, Mushroom Soup, Mushroom Pizza\n"
          ]
        },
        {
          "output_type": "execute_result",
          "data": {
            "text/plain": [
              "[]"
            ]
          },
          "metadata": {},
          "execution_count": 1
        }
      ]
    }
  ]
}