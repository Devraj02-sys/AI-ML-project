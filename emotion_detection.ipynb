{
  "nbformat": 4,
  "nbformat_minor": 0,
  "metadata": {
    "colab": {
      "provenance": [],
      "authorship_tag": "ABX9TyOq2bFsNy+XQSAkkmj7p4C6",
      "include_colab_link": true
    },
    "kernelspec": {
      "name": "python3",
      "display_name": "Python 3"
    },
    "language_info": {
      "name": "python"
    }
  },
  "cells": [
    {
      "cell_type": "markdown",
      "metadata": {
        "id": "view-in-github",
        "colab_type": "text"
      },
      "source": [
        "<a href=\"https://colab.research.google.com/github/Devraj02-sys/AI-ML-project/blob/main/emotion_detection.ipynb\" target=\"_parent\"><img src=\"https://colab.research.google.com/assets/colab-badge.svg\" alt=\"Open In Colab\"/></a>"
      ]
    },
    {
      "cell_type": "code",
      "source": [
        "!pip install neattext"
      ],
      "metadata": {
        "colab": {
          "base_uri": "https://localhost:8080/"
        },
        "id": "n_ewOT6G1308",
        "outputId": "5cc8c191-8a84-4093-fd5e-21b4b4582de0"
      },
      "execution_count": null,
      "outputs": [
        {
          "output_type": "stream",
          "name": "stdout",
          "text": [
            "Collecting neattext\n",
            "  Downloading neattext-0.1.3-py3-none-any.whl.metadata (12 kB)\n",
            "Downloading neattext-0.1.3-py3-none-any.whl (114 kB)\n",
            "\u001b[?25l   \u001b[90m━━━━━━━━━━━━━━━━━━━━━━━━━━━━━━━━━━━━━━━━\u001b[0m \u001b[32m0.0/114.7 kB\u001b[0m \u001b[31m?\u001b[0m eta \u001b[36m-:--:--\u001b[0m\r\u001b[2K   \u001b[91m━━━━━━━━━━━━━━━━━━━━━━━━━━━━━━━━━━━━━━━\u001b[0m\u001b[90m╺\u001b[0m \u001b[32m112.6/114.7 kB\u001b[0m \u001b[31m3.1 MB/s\u001b[0m eta \u001b[36m0:00:01\u001b[0m\r\u001b[2K   \u001b[90m━━━━━━━━━━━━━━━━━━━━━━━━━━━━━━━━━━━━━━━━\u001b[0m \u001b[32m114.7/114.7 kB\u001b[0m \u001b[31m2.1 MB/s\u001b[0m eta \u001b[36m0:00:00\u001b[0m\n",
            "\u001b[?25hInstalling collected packages: neattext\n",
            "Successfully installed neattext-0.1.3\n"
          ]
        }
      ]
    },
    {
      "cell_type": "code",
      "source": [
        "!python -m spacy download en_core_web_md\n"
      ],
      "metadata": {
        "colab": {
          "base_uri": "https://localhost:8080/"
        },
        "id": "FB4vOe1u3i5F",
        "outputId": "60ff254e-0f5c-47cf-f59c-b6ad4be9988b"
      },
      "execution_count": null,
      "outputs": [
        {
          "output_type": "stream",
          "name": "stdout",
          "text": [
            "Collecting en-core-web-md==3.8.0\n",
            "  Downloading https://github.com/explosion/spacy-models/releases/download/en_core_web_md-3.8.0/en_core_web_md-3.8.0-py3-none-any.whl (33.5 MB)\n",
            "\u001b[2K     \u001b[90m━━━━━━━━━━━━━━━━━━━━━━━━━━━━━━━━━━━━━━━━\u001b[0m \u001b[32m33.5/33.5 MB\u001b[0m \u001b[31m9.5 MB/s\u001b[0m eta \u001b[36m0:00:00\u001b[0m\n",
            "\u001b[?25hInstalling collected packages: en-core-web-md\n",
            "Successfully installed en-core-web-md-3.8.0\n",
            "\u001b[38;5;2m✔ Download and installation successful\u001b[0m\n",
            "You can now load the package via spacy.load('en_core_web_md')\n",
            "\u001b[38;5;3m⚠ Restart to reload dependencies\u001b[0m\n",
            "If you are in a Jupyter or Colab notebook, you may need to restart Python in\n",
            "order to load all the package's dependencies. You can do this by selecting the\n",
            "'Restart kernel' or 'Restart runtime' option.\n"
          ]
        }
      ]
    },
    {
      "cell_type": "code",
      "source": [
        "import numpy as np\n",
        "import seaborn as sns\n",
        "import matplotlib.pyplot as plt\n",
        "import joblib\n",
        "import nltk\n",
        "import spacy\n",
        "from sklearn.model_selection import train_test_split\n",
        "from sklearn.metrics import accuracy_score, classification_report, confusion_matrix\n",
        "from sklearn.ensemble import RandomForestClassifier\n",
        "from xgboost import XGBClassifier\n",
        "from transformers import BertTokenizer, BertForSequenceClassification, Trainer, TrainingArguments\n",
        "import torch\n",
        "import torch.nn.functional as F\n",
        "\n",
        "# Load NLP Model for Word Embeddings\n",
        "nlp = spacy.load(\"en_core_web_md\")\n",
        "\n",
        "def get_embedding(text):\n",
        "    return nlp(text).vector  # Get a 300-dim vector for the text\n",
        "\n",
        "# Extended Dataset (Further Expansion for Better Generalization)\n",
        "data = [\n",
        "    (\"I am so happy today!\", \"happy\"),\n",
        "    (\"I feel very sad and lonely.\", \"sad\"),\n",
        "    (\"Why are you so angry with me?\", \"angry\"),\n",
        "    (\"This is the best day of my life!\", \"happy\"),\n",
        "    (\"I am extremely frustrated right now.\", \"angry\"),\n",
        "    (\"Tears won't stop falling from my eyes.\", \"sad\"),\n",
        "    (\"I just want to dance with joy!\", \"happy\"),\n",
        "    (\"He makes me so mad!\", \"angry\"),\n",
        "    (\"I feel heartbroken and lost.\", \"sad\"),\n",
        "    (\"What a wonderful surprise!\", \"happy\"),\n",
        "    (\"I'm feeling miserable and depressed.\", \"sad\"),\n",
        "    (\"I am boiling with rage!\", \"angry\"),\n",
        "    (\"Laughing all day, best time ever!\", \"happy\"),\n",
        "    (\"I feel so alone and broken.\", \"sad\"),\n",
        "    (\"This situation makes me furious!\", \"angry\"),\n",
        "    (\"Excited for the trip tomorrow!\", \"happy\"),\n",
        "    (\"I can't stop crying, I feel terrible.\", \"sad\"),\n",
        "    (\"You just ruined everything, I'm so mad!\", \"angry\"),\n",
        "    (\"I'm thrilled about this!\", \"happy\"),\n",
        "    (\"I am devastated and hopeless.\", \"sad\"),\n",
        "    (\"Everything is making me furious!\", \"angry\"),\n",
        "    (\"I couldn't be happier!\", \"happy\"),\n",
        "    (\"The loneliness is unbearable.\", \"sad\"),\n",
        "    (\"Anger is taking over me.\", \"angry\"),\n",
        "    (\"Life feels wonderful and full of joy!\", \"happy\"),\n",
        "    (\"I feel so dejected and worthless.\", \"sad\"),\n",
        "    (\"I am fuming with anger right now!\", \"angry\"),\n",
        "    (\"My heart is filled with happiness!\", \"happy\"),\n",
        "    (\"My sadness is overwhelming me.\", \"sad\"),\n",
        "    (\"I'm exploding with rage!\", \"angry\"),\n",
        "    (\"I feel ecstatic about my achievements!\", \"happy\"),\n",
        "    (\"Why does everything always go wrong?\", \"sad\"),\n",
        "    (\"I am burning with anger and frustration!\", \"angry\")\n",
        "]\n",
        "\n",
        "\n",
        "# Convert text and labels\n",
        "texts, labels = zip(*data)\n",
        "label_map = {\"happy\": 0, \"sad\": 1, \"angry\": 2}\n",
        "numeric_labels = [label_map[label] for label in labels]\n",
        "\n",
        "# Convert text to embeddings\n",
        "text_embeddings = np.array([get_embedding(text) for text in texts])\n",
        "\n",
        "# Train-Test Split\n",
        "X_train, X_test, y_train, y_test = train_test_split(text_embeddings, numeric_labels, test_size=0.2, random_state=42, stratify=numeric_labels)\n",
        "\n",
        "# Optimize RandomForestClassifier\n",
        "rf = RandomForestClassifier(n_estimators=700, max_depth=100, random_state=42)\n",
        "rf.fit(X_train, y_train)\n",
        "y_pred_rf = rf.predict(X_test)\n",
        "print(\"Random Forest Accuracy:\", accuracy_score(y_test, y_pred_rf))\n",
        "\n",
        "# Optimize XGBoost\n",
        "xgb = XGBClassifier(n_estimators=700, learning_rate=0.01, max_depth=100)\n",
        "xgb.fit(X_train, y_train)\n",
        "y_pred_xgb = xgb.predict(X_test)\n",
        "print(\"XGBoost Accuracy:\", accuracy_score(y_test, y_pred_xgb))\n",
        "\n",
        "# Fine-tune BERT Model\n",
        "bert_tokenizer = BertTokenizer.from_pretrained(\"bert-base-uncased\")\n",
        "bert_model = BertForSequenceClassification.from_pretrained(\"bert-base-uncased\", num_labels=3)\n",
        "\n",
        "def predict_with_bert(text):\n",
        "    inputs = bert_tokenizer(text, return_tensors=\"pt\", padding=True, truncation=True)\n",
        "    outputs = bert_model(**inputs)\n",
        "    probs = F.softmax(outputs.logits, dim=1)\n",
        "    return torch.argmax(probs).item()\n",
        "\n",
        "# Test BERT Prediction\n",
        "print(\"BERT Prediction:\", predict_with_bert(\"I feel amazing today!\"))\n",
        "\n",
        "# Confusion Matrix Plot\n",
        "conf_matrix = confusion_matrix(y_test, y_pred_xgb)\n",
        "plt.figure(figsize=(6,6))\n",
        "sns.heatmap(conf_matrix, annot=True, fmt='d', cmap='Blues', xticklabels=label_map.keys(), yticklabels=label_map.keys())\n",
        "plt.xlabel('Predicted')\n",
        "plt.ylabel('Actual')\n",
        "plt.title('Confusion Matrix for XGBoost Model')\n",
        "plt.show()\n",
        "\n",
        "# Save Best Model\n",
        "joblib.dump((rf, xgb, bert_model), \"emotion_models.pkl\")"
      ],
      "metadata": {
        "colab": {
          "base_uri": "https://localhost:8080/",
          "height": 694
        },
        "id": "GRzpG5YG3-XV",
        "outputId": "252bcfe5-c4d4-4896-a810-adb944bb832f"
      },
      "execution_count": null,
      "outputs": [
        {
          "output_type": "stream",
          "name": "stdout",
          "text": [
            "Random Forest Accuracy: 0.8571428571428571\n",
            "XGBoost Accuracy: 0.8571428571428571\n"
          ]
        },
        {
          "output_type": "stream",
          "name": "stderr",
          "text": [
            "Some weights of BertForSequenceClassification were not initialized from the model checkpoint at bert-base-uncased and are newly initialized: ['classifier.bias', 'classifier.weight']\n",
            "You should probably TRAIN this model on a down-stream task to be able to use it for predictions and inference.\n"
          ]
        },
        {
          "output_type": "stream",
          "name": "stdout",
          "text": [
            "BERT Prediction: 2\n"
          ]
        },
        {
          "output_type": "display_data",
          "data": {
            "text/plain": [
              "<Figure size 600x600 with 2 Axes>"
            ],
            "image/png": "[encoded data removed]"
          },
          "metadata": {}
        },
        {
          "output_type": "execute_result",
          "data": {
            "text/plain": [
              "['emotion_models.pkl']"
            ]
          },
          "metadata": {},
          "execution_count": 20
        }
      ]
    }
  ]
}