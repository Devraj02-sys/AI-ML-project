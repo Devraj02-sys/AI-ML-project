{
  "nbformat": 4,
  "nbformat_minor": 0,
  "metadata": {
    "colab": {
      "provenance": [],
      "authorship_tag": "ABX9TyOhVIrBd+dh3ZkwYYnaEggn",
      "include_colab_link": true
    },
    "kernelspec": {
      "name": "python3",
      "display_name": "Python 3"
    },
    "language_info": {
      "name": "python"
    }
  },
  "cells": [
    {
      "cell_type": "markdown",
      "metadata": {
        "id": "view-in-github",
        "colab_type": "text"
      },
      "source": [
        "<a href=\"https://colab.research.google.com/github/Devraj02-sys/AI-ML-project/blob/main/emotion_detection.ipynb\" target=\"_parent\"><img src=\"https://colab.research.google.com/assets/colab-badge.svg\" alt=\"Open In Colab\"/></a>"
      ]
    },
    {
      "cell_type": "code",
      "source": [
        "import numpy as np\n",
        "import seaborn as sns\n",
        "import neattext as nt\n",
        "import neattext.functions as ntfx\n",
        "import joblib\n",
        "from sklearn.feature_extraction.text import TfidfVectorizer\n",
        "from sklearn.model_selection import train_test_split, GridSearchCV\n",
        "from sklearn.svm import SVC\n",
        "from sklearn.metrics import accuracy_score, classification_report, confusion_matrix\n",
        "\n",
        "# Extended Dataset\n",
        "data = [\n",
        "    (\"I am so happy today!\", \"happy\"),\n",
        "    (\"I feel very sad and lonely.\", \"sad\"),\n",
        "    (\"Why are you so angry with me?\", \"angry\"),\n",
        "    (\"This is the best day of my life!\", \"happy\"),\n",
        "    (\"I am extremely frustrated right now.\", \"angry\"),\n",
        "    (\"Tears won't stop falling from my eyes.\", \"sad\"),\n",
        "    (\"I just want to dance with joy!\", \"happy\"),\n",
        "    (\"He makes me so mad!\", \"angry\"),\n",
        "    (\"I feel heartbroken and lost.\", \"sad\"),\n",
        "    (\"What a wonderful surprise!\", \"happy\"),\n",
        "    (\"I'm feeling miserable and depressed.\", \"sad\"),\n",
        "    (\"I am boiling with rage!\", \"angry\"),\n",
        "    (\"Laughing all day, best time ever!\", \"happy\"),\n",
        "    (\"I feel so alone and broken.\", \"sad\"),\n",
        "    (\"This situation makes me furious!\", \"angry\"),\n",
        "    (\"Excited for the trip tomorrow!\", \"happy\"),\n",
        "    (\"I can't stop crying, I feel terrible.\", \"sad\"),\n",
        "    (\"You just ruined everything, I'm so mad!\", \"angry\"),\n",
        "]\n",
        "\n",
        "# Preprocessing\n",
        "texts, labels = zip(*data)\n",
        "processed_texts = [ntfx.remove_stopwords(ntfx.remove_special_characters(text.lower())) for text in texts]\n",
        "\n",
        "# Convert labels to numerical format\n",
        "label_map = {\"happy\": 0, \"sad\": 1, \"angry\": 2}\n",
        "numeric_labels = [label_map[label] for label in labels]\n",
        "\n",
        "# Train-Test Split\n",
        "X_train, X_test, y_train, y_test = train_test_split(processed_texts, numeric_labels, test_size=0.2, random_state=42)\n",
        "\n",
        "# SVM Model\n",
        "vectorizer = TfidfVectorizer()\n",
        "X_train_vec = vectorizer.fit_transform(X_train)\n",
        "X_test_vec = vectorizer.transform(X_test)\n",
        "\n",
        "svm = SVC(kernel='linear', C=1.0)\n",
        "svm.fit(X_train_vec, y_train)\n",
        "\n",
        "# Save SVM Model\n",
        "joblib.dump((vectorizer, svm), \"svm_emotion_detector.pkl\")\n",
        "\n",
        "# Evaluate SVM Model\n",
        "y_pred_svm = svm.predict(X_test_vec)\n",
        "print(\"SVM Accuracy:\", accuracy_score(y_test, y_pred_svm))\n",
        "print(classification_report(y_test, y_pred_svm, target_names=label_map.keys()))\n"
      ],
      "metadata": {
        "colab": {
          "base_uri": "https://localhost:8080/"
        },
        "id": "seOS1kyb8ch1",
        "outputId": "89b6667c-508b-4acf-aa0f-f31d5c07625c"
      },
      "execution_count": 13,
      "outputs": [
        {
          "output_type": "stream",
          "name": "stdout",
          "text": [
            "SVM Accuracy: 0.75\n",
            "              precision    recall  f1-score   support\n",
            "\n",
            "       happy       0.00      0.00      0.00         1\n",
            "         sad       1.00      1.00      1.00         3\n",
            "       angry       0.00      0.00      0.00         0\n",
            "\n",
            "    accuracy                           0.75         4\n",
            "   macro avg       0.33      0.33      0.33         4\n",
            "weighted avg       0.75      0.75      0.75         4\n",
            "\n"
          ]
        },
        {
          "output_type": "stream",
          "name": "stderr",
          "text": [
            "/usr/local/lib/python3.11/dist-packages/sklearn/metrics/_classification.py:1565: UndefinedMetricWarning: Precision is ill-defined and being set to 0.0 in labels with no predicted samples. Use `zero_division` parameter to control this behavior.\n",
            "  _warn_prf(average, modifier, f\"{metric.capitalize()} is\", len(result))\n",
            "/usr/local/lib/python3.11/dist-packages/sklearn/metrics/_classification.py:1565: UndefinedMetricWarning: Recall is ill-defined and being set to 0.0 in labels with no true samples. Use `zero_division` parameter to control this behavior.\n",
            "  _warn_prf(average, modifier, f\"{metric.capitalize()} is\", len(result))\n",
            "/usr/local/lib/python3.11/dist-packages/sklearn/metrics/_classification.py:1565: UndefinedMetricWarning: Precision is ill-defined and being set to 0.0 in labels with no predicted samples. Use `zero_division` parameter to control this behavior.\n",
            "  _warn_prf(average, modifier, f\"{metric.capitalize()} is\", len(result))\n",
            "/usr/local/lib/python3.11/dist-packages/sklearn/metrics/_classification.py:1565: UndefinedMetricWarning: Recall is ill-defined and being set to 0.0 in labels with no true samples. Use `zero_division` parameter to control this behavior.\n",
            "  _warn_prf(average, modifier, f\"{metric.capitalize()} is\", len(result))\n",
            "/usr/local/lib/python3.11/dist-packages/sklearn/metrics/_classification.py:1565: UndefinedMetricWarning: Precision is ill-defined and being set to 0.0 in labels with no predicted samples. Use `zero_division` parameter to control this behavior.\n",
            "  _warn_prf(average, modifier, f\"{metric.capitalize()} is\", len(result))\n",
            "/usr/local/lib/python3.11/dist-packages/sklearn/metrics/_classification.py:1565: UndefinedMetricWarning: Recall is ill-defined and being set to 0.0 in labels with no true samples. Use `zero_division` parameter to control this behavior.\n",
            "  _warn_prf(average, modifier, f\"{metric.capitalize()} is\", len(result))\n"
          ]
        }
      ]
    }
  ]
}