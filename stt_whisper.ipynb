{
  "nbformat": 4,
  "nbformat_minor": 0,
  "metadata": {
    "colab": {
      "provenance": [],
      "authorship_tag": "ABX9TyO9kg1NEcHmPPtXtyZG0o51",
      "include_colab_link": true
    },
    "kernelspec": {
      "name": "python3",
      "display_name": "Python 3"
    },
    "language_info": {
      "name": "python"
    }
  },
  "cells": [
    {
      "cell_type": "markdown",
      "metadata": {
        "id": "view-in-github",
        "colab_type": "text"
      },
      "source": [
        "<a href=\"https://colab.research.google.com/github/Devraj02-sys/AI-ML-project/blob/main/stt_whisper.ipynb\" target=\"_parent\"><img src=\"https://colab.research.google.com/assets/colab-badge.svg\" alt=\"Open In Colab\"/></a>"
      ]
    },
    {
      "cell_type": "code",
      "source": [
        "import torch\n",
        "import torchaudio\n",
        "from transformers import WhisperProcessor, WhisperForConditionalGeneration\n",
        "\n",
        "# Load Whisper model and processor\n",
        "model_name = \"openai/whisper-small\"\n",
        "processor = WhisperProcessor.from_pretrained(model_name)\n",
        "model = WhisperForConditionalGeneration.from_pretrained(model_name)\n",
        "\n",
        "# Move model to GPU if available\n",
        "device = \"cuda\" if torch.cuda.is_available() else \"cpu\"\n",
        "model.to(device)\n",
        "\n",
        "# Load and preprocess audio\n",
        "def load_audio(file_path):\n",
        "    speech_array, sampling_rate = torchaudio.load(file_path)\n",
        "    if sampling_rate != 16000:\n",
        "        resampler = torchaudio.transforms.Resample(orig_freq=sampling_rate, new_freq=16000)\n",
        "        speech_array = resampler(speech_array)\n",
        "    return speech_array.squeeze().numpy()\n",
        "\n",
        "# Transcribe audio\n",
        "def transcribe(audio_path):\n",
        "    audio = load_audio(audio_path)\n",
        "    input_features = processor(audio, sampling_rate=16000, return_tensors=\"pt\").input_features\n",
        "    input_features = input_features.to(device)\n",
        "\n",
        "    with torch.no_grad():\n",
        "        predicted_ids = model.generate(input_features)\n",
        "\n",
        "    transcription = processor.batch_decode(predicted_ids, skip_special_tokens=True)[0]\n",
        "    return transcription\n",
        "\n",
        "# Example usage\n",
        "audio_file = \"/content/harvard.wav\"  # Replace with actual file path\n",
        "text_output = transcribe(audio_file)\n",
        "print(\"Transcription:\", text_output)\n"
      ],
      "metadata": {
        "colab": {
          "base_uri": "https://localhost:8080/"
        },
        "id": "44hhTSaB-JBO",
        "outputId": "28ea49e6-ad98-4fd7-a375-c10e443c4bdb"
      },
      "execution_count": 17,
      "outputs": [
        {
          "output_type": "stream",
          "name": "stderr",
          "text": [
            "Due to a bug fix in https://github.com/huggingface/transformers/pull/28687 transcription using a multilingual Whisper will default to language detection followed by transcription instead of translation to English.This might be a breaking change for your use case. If you want to instead always translate your audio to English, make sure to pass `language='en'`.\n",
            "The attention mask is not set and cannot be inferred from input because pad token is same as eos token. As a consequence, you may observe unexpected behavior. Please pass your input's `attention_mask` to obtain reliable results.\n"
          ]
        },
        {
          "output_type": "stream",
          "name": "stdout",
          "text": [
            "Transcription:  The stale smell of old beer lingers. It takes heat to bring out the odor. A cold dip restores health and zest. A salt pickle tastes fine with ham. Tacos al pastor are my favorite. A zestful food is the hot cross bun.\n"
          ]
        }
      ]
    }
  ]
}